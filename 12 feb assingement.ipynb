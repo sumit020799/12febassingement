{
 "cells": [
  {
   "attachments": {},
   "cell_type": "markdown",
   "metadata": {},
   "source": [
    "12 feb assingement\n",
    "\n",
    "1. Whhat is an Exception in python? write the difference etween Exeptions and syntax error."
   ]
  },
  {
   "cell_type": "code",
   "execution_count": null,
   "metadata": {},
   "outputs": [],
   "source": [
    "''' An exception in Python is an error that occurs during the execution of a program. It is a runtime error that can\n",
    "    cause the program to terminate abruptly if not handled properly.\n",
    "\n",
    "    The difference between exceptions and syntax errors is that syntax errors occur when there is a problem with the code itself,\n",
    "    such as a misspelled keyword or a missing parenthesis. These errors are detected by the Python interpreter before the program is\n",
    "    executed and must be fixed before the program can run.  \n",
    "\n",
    "    exceptions occur during the execution of a program and are caused by factors outside of the programmer's control, such as invalid\n",
    "    user input or a network failure. Exceptions can be handled using try-except blocks to prevent the program from crashing and to provide\n",
    "    informative error messages to users\n",
    "'''"
   ]
  },
  {
   "attachments": {},
   "cell_type": "markdown",
   "metadata": {},
   "source": [
    "2. what happens when a expection is not handled? Explain with an example.\n"
   ]
  },
  {
   "cell_type": "code",
   "execution_count": 1,
   "metadata": {},
   "outputs": [
    {
     "ename": "ZeroDivisionError",
     "evalue": "division by zero",
     "output_type": "error",
     "traceback": [
      "\u001b[1;31m---------------------------------------------------------------------------\u001b[0m",
      "\u001b[1;31mZeroDivisionError\u001b[0m                         Traceback (most recent call last)",
      "Cell \u001b[1;32mIn[1], line 5\u001b[0m\n\u001b[0;32m      1\u001b[0m \u001b[39m''' When an exception is not handled in Python, the program will terminate abruptly and display an error message to the user.\u001b[39;00m\n\u001b[0;32m      2\u001b[0m \u001b[39m    This can be frustrating for the user, as they may not understand what went wrong or how to fix it.'''\u001b[39;00m\n\u001b[0;32m      4\u001b[0m num \u001b[39m=\u001b[39m \u001b[39m10\u001b[39m\n\u001b[1;32m----> 5\u001b[0m result \u001b[39m=\u001b[39m num\u001b[39m/\u001b[39;49m\u001b[39m0\u001b[39;49m\n\u001b[0;32m      6\u001b[0m \u001b[39mprint\u001b[39m(result)\n",
      "\u001b[1;31mZeroDivisionError\u001b[0m: division by zero"
     ]
    }
   ],
   "source": [
    "''' When an exception is not handled in Python, the program will terminate abruptly and display an error message to the user.\n",
    "    This can be frustrating for the user, as they may not understand what went wrong or how to fix it.'''\n",
    "\n",
    "num = 10\n",
    "result = num/0\n",
    "print(result)\n"
   ]
  },
  {
   "cell_type": "code",
   "execution_count": 3,
   "metadata": {},
   "outputs": [
    {
     "name": "stdout",
     "output_type": "stream",
     "text": [
      "division by zero\n"
     ]
    }
   ],
   "source": [
    "#To handle this exception, we can use a try-except block:\n",
    "try :\n",
    " num = 10\n",
    " result = num/0\n",
    " print(result)\n",
    "except ZeroDivisionError as e:\n",
    "    print(e)"
   ]
  },
  {
   "attachments": {},
   "cell_type": "markdown",
   "metadata": {},
   "source": [
    "3. which python statement are used to catch and handle exceptions? Explain with an example."
   ]
  },
  {
   "cell_type": "code",
   "execution_count": 6,
   "metadata": {},
   "outputs": [
    {
     "name": "stdout",
     "output_type": "stream",
     "text": [
      "Error: Cannot divide by zero.\n"
     ]
    },
    {
     "data": {
      "text/plain": [
       "' In this example, the try block contains code that may raise two types of exceptions: ValueError (if the user enters a non-numeric value)\\n    and ZeroDivisionError (if the user enters 0 as the second number). If either of these exceptions is raised, the corresponding except block\\n    will be executed, printing a helpful error message to the user. If no exception is raised, the program will continue executing after the \\n    try-except block. \\n'"
      ]
     },
     "execution_count": 6,
     "metadata": {},
     "output_type": "execute_result"
    }
   ],
   "source": [
    "#The try-except statement is used to catch and handle exceptions in Python. \n",
    "\n",
    "#example\n",
    "\n",
    "\n",
    "try:\n",
    "    num1 = int(input(\"Enter a number: \"))\n",
    "    num2 = int(input(\"Enter another number: \"))\n",
    "    result = num1 / num2\n",
    "    print(\"The result is:\", result)\n",
    "except ValueError:\n",
    "    print(\"Error: Invalid input. Please enter a number.\")\n",
    "except ZeroDivisionError:\n",
    "    print(\"Error: Cannot divide by zero.\")\n",
    "\n",
    "''' In this example, the try block contains code that may raise two types of exceptions: ValueError (if the user enters a non-numeric value)\n",
    "    and ZeroDivisionError (if the user enters 0 as the second number). If either of these exceptions is raised, the corresponding except block\n",
    "    will be executed, printing a helpful error message to the user. If no exception is raised, the program will continue executing after the \n",
    "    try-except block. \n",
    "'''    \n",
    "\n",
    "\n"
   ]
  },
  {
   "attachments": {},
   "cell_type": "markdown",
   "metadata": {},
   "source": [
    "4. Explain with an example:\n",
    "\n",
    "   a. try and else \n",
    "   b. finally\n",
    "   c. raise\n",
    "   "
   ]
  },
  {
   "cell_type": "code",
   "execution_count": 8,
   "metadata": {},
   "outputs": [
    {
     "name": "stdout",
     "output_type": "stream",
     "text": [
      "The result is: 1.0\n"
     ]
    }
   ],
   "source": [
    "# try-else = the else block works only when the try block is successfully works. After that the else block is executed.\n",
    "\n",
    "try:\n",
    "    num1 = int(input(\"Enter a number: \"))\n",
    "    num2 = int(input(\"Enter another number: \"))\n",
    "    result = num1 / num2\n",
    "except ValueError:\n",
    "    print(\"Error: Invalid input. Please enter a number.\")\n",
    "except ZeroDivisionError:\n",
    "    print(\"Error: Cannot divide by zero.\")\n",
    "else:\n",
    "    print(\"The result is:\", result)\n"
   ]
  },
  {
   "cell_type": "code",
   "execution_count": 11,
   "metadata": {},
   "outputs": [
    {
     "name": "stdout",
     "output_type": "stream",
     "text": [
      "Error: File not found.\n",
      "this is finally\n"
     ]
    }
   ],
   "source": [
    "# finally = it will be executed in any types of situation rather than you got error or not error.\n",
    "\n",
    "try:\n",
    "    file = open(\"example.txt\", \"r\")\n",
    "    file.read\n",
    "except FileNotFoundError:\n",
    "    print(\"Error: File not found.\")\n",
    "finally:\n",
    "    file.close()\n",
    "    print(\"this is finally\")"
   ]
  },
  {
   "cell_type": "code",
   "execution_count": 12,
   "metadata": {},
   "outputs": [
    {
     "name": "stdout",
     "output_type": "stream",
     "text": [
      "Cannot divide by zero.\n"
     ]
    }
   ],
   "source": [
    "'''raise =  The raise statement is used to manually raise an exception in Python. It can be used to signal an error condition \n",
    "   or to propagate an exception up the call stack.'''\n",
    "\n",
    "def divide(num1, num2):\n",
    "    if num2 == 0:\n",
    "        raise ZeroDivisionError(\"Cannot divide by zero.\")\n",
    "    return num1 / num2\n",
    "\n",
    "try:\n",
    "    result = divide(10, 0)\n",
    "except ZeroDivisionError as e:\n",
    "    print(e)"
   ]
  },
  {
   "attachments": {},
   "cell_type": "markdown",
   "metadata": {},
   "source": [
    "5. what are custom Exception in python? why do we need custom Exceptions? Explain with an example.\n"
   ]
  },
  {
   "cell_type": "code",
   "execution_count": 11,
   "metadata": {},
   "outputs": [],
   "source": [
    "''' Custom exceptions in Python are user-defined exceptions that can be raised like built-in exceptions to signal specific\n",
    "    error conditions in a program. They are created by defining a new class that inherits from the Exception class or one of\n",
    "    its subclasses. \n",
    "    \n",
    "    We need custom exceptions in Python to handle specific error conditions that are not covered by the built-in exceptions. \n",
    "    By defining our own exceptions, we can provide more informative error messages and handle them in a more specific way.\n",
    "    '''\n",
    "\n",
    "\n"
   ]
  },
  {
   "cell_type": "code",
   "execution_count": 76,
   "metadata": {},
   "outputs": [
    {
     "name": "stdout",
     "output_type": "stream",
     "text": [
      "Number cannot be larger than 10.\n",
      "Number is valid.\n"
     ]
    },
    {
     "data": {
      "text/plain": [
       "' In this example, we define a custom exception called NumberTooLargeError that is raised if the input number to \\n    the check_number function is larger than 10. The exception inherits from the base Exception class and has a custom error\\n    message that includes the offending number. We then use the try-except block to catch the exception and print its message.\\n    We test the function with both a number larger than 10 and a number smaller than 10 to show the exception being raised and\\n    not raised, respectively. \\n'"
      ]
     },
     "execution_count": 76,
     "metadata": {},
     "output_type": "execute_result"
    }
   ],
   "source": [
    "#example\n",
    "class NumberTooLargeError(Exception):\n",
    "    def __init__(self, number, message=\"Number cannot be larger than 10.\"):\n",
    "        self.number = number\n",
    "        self.message = message\n",
    "        super().__init__(self.message)\n",
    "\n",
    "def check_number(num):\n",
    "    if num > 10:\n",
    "        raise NumberTooLargeError(num)\n",
    "    else:\n",
    "        print(\"Number is valid.\")\n",
    "\n",
    "try:\n",
    "    check_number(15)\n",
    "except NumberTooLargeError as e:\n",
    "    print(e.message)\n",
    "\n",
    "try:\n",
    "    check_number(8)\n",
    "except NumberTooLargeError as e:\n",
    "    print(e.message)\n",
    "\n",
    "''' In this example, we define a custom exception called NumberTooLargeError that is raised if the input number to \n",
    "    the check_number function is larger than 10. The exception inherits from the base Exception class and has a custom error\n",
    "    message that includes the offending number. We then use the try-except block to catch the exception and print its message.\n",
    "    We test the function with both a number larger than 10 and a number smaller than 10 to show the exception being raised and\n",
    "    not raised, respectively. \n",
    "'''    \n"
   ]
  },
  {
   "attachments": {},
   "cell_type": "markdown",
   "metadata": {},
   "source": [
    "6. Create a custom Exception class. use this class to handle an exception. "
   ]
  },
  {
   "cell_type": "code",
   "execution_count": 67,
   "metadata": {},
   "outputs": [],
   "source": [
    "\n",
    "age = int(input(\"enter your age\" ))"
   ]
  },
  {
   "cell_type": "code",
   "execution_count": 66,
   "metadata": {},
   "outputs": [],
   "source": [
    "class validateage(Exception):\n",
    "    \n",
    "    def __init__(self , msg) : \n",
    "        self.msg = msg"
   ]
  },
  {
   "cell_type": "code",
   "execution_count": 74,
   "metadata": {},
   "outputs": [],
   "source": [
    "def validaetage(age) : \n",
    "    if age < 0 :\n",
    "        raise validateage(\"entered age is negative \" )\n",
    "    elif age > 70 : \n",
    "        raise validateage(\"enterd age is more than 70\")\n",
    "    else :\n",
    "        print(\"age is valid\" )"
   ]
  },
  {
   "cell_type": "code",
   "execution_count": 75,
   "metadata": {},
   "outputs": [
    {
     "name": "stdout",
     "output_type": "stream",
     "text": [
      "enterd age is more than 70\n"
     ]
    }
   ],
   "source": [
    "try :\n",
    "    age = int(input(\"enter your age\" ))\n",
    "    validaetage(age)\n",
    "except validateage as e :\n",
    "    print(e)"
   ]
  }
 ],
 "metadata": {
  "kernelspec": {
   "display_name": "Python 3",
   "language": "python",
   "name": "python3"
  },
  "language_info": {
   "codemirror_mode": {
    "name": "ipython",
    "version": 3
   },
   "file_extension": ".py",
   "mimetype": "text/x-python",
   "name": "python",
   "nbconvert_exporter": "python",
   "pygments_lexer": "ipython3",
   "version": "3.11.4"
  },
  "orig_nbformat": 4
 },
 "nbformat": 4,
 "nbformat_minor": 2
}
